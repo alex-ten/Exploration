{
 "cells": [
  {
   "cell_type": "code",
   "execution_count": 77,
   "metadata": {
    "ExecuteTime": {
     "end_time": "2019-07-15T13:29:30.431578Z",
     "start_time": "2019-07-15T13:29:27.547Z"
    },
    "init_cell": true
   },
   "outputs": [
    {
     "data": {
      "text/html": [
       "<table>\n",
       "<caption>A data.frame: 6 × 8</caption>\n",
       "<thead>\n",
       "\t<tr><th></th><th scope=col>grp</th><th scope=col>sid</th><th scope=col>trial</th><th scope=col>blkt</th><th scope=col>tid</th><th scope=col>cor</th><th scope=col>rt</th><th scope=col>ntm</th></tr>\n",
       "\t<tr><th></th><th scope=col>&lt;fct&gt;</th><th scope=col>&lt;int&gt;</th><th scope=col>&lt;int&gt;</th><th scope=col>&lt;int&gt;</th><th scope=col>&lt;fct&gt;</th><th scope=col>&lt;int&gt;</th><th scope=col>&lt;dbl&gt;</th><th scope=col>&lt;fct&gt;</th></tr>\n",
       "</thead>\n",
       "<tbody>\n",
       "\t<tr><th scope=row>1</th><td>0</td><td>0</td><td>67</td><td> 6</td><td>4</td><td>1</td><td>1.152</td><td>3</td></tr>\n",
       "\t<tr><th scope=row>2</th><td>0</td><td>0</td><td>68</td><td> 7</td><td>4</td><td>1</td><td>4.974</td><td>3</td></tr>\n",
       "\t<tr><th scope=row>7</th><td>0</td><td>0</td><td>73</td><td>12</td><td>4</td><td>1</td><td>1.258</td><td>3</td></tr>\n",
       "\t<tr><th scope=row>13</th><td>0</td><td>0</td><td>79</td><td>18</td><td>4</td><td>1</td><td>1.017</td><td>3</td></tr>\n",
       "\t<tr><th scope=row>14</th><td>0</td><td>0</td><td>80</td><td>19</td><td>4</td><td>1</td><td>1.019</td><td>3</td></tr>\n",
       "\t<tr><th scope=row>17</th><td>0</td><td>0</td><td>83</td><td>22</td><td>4</td><td>1</td><td>1.830</td><td>3</td></tr>\n",
       "</tbody>\n",
       "</table>\n"
      ],
      "text/latex": [
       "A data.frame: 6 × 8\n",
       "\\begin{tabular}{r|llllllll}\n",
       "  & grp & sid & trial & blkt & tid & cor & rt & ntm\\\\\n",
       "  & <fct> & <int> & <int> & <int> & <fct> & <int> & <dbl> & <fct>\\\\\n",
       "\\hline\n",
       "\t1 & 0 & 0 & 67 &  6 & 4 & 1 & 1.152 & 3\\\\\n",
       "\t2 & 0 & 0 & 68 &  7 & 4 & 1 & 4.974 & 3\\\\\n",
       "\t7 & 0 & 0 & 73 & 12 & 4 & 1 & 1.258 & 3\\\\\n",
       "\t13 & 0 & 0 & 79 & 18 & 4 & 1 & 1.017 & 3\\\\\n",
       "\t14 & 0 & 0 & 80 & 19 & 4 & 1 & 1.019 & 3\\\\\n",
       "\t17 & 0 & 0 & 83 & 22 & 4 & 1 & 1.830 & 3\\\\\n",
       "\\end{tabular}\n"
      ],
      "text/markdown": [
       "\n",
       "A data.frame: 6 × 8\n",
       "\n",
       "| <!--/--> | grp &lt;fct&gt; | sid &lt;int&gt; | trial &lt;int&gt; | blkt &lt;int&gt; | tid &lt;fct&gt; | cor &lt;int&gt; | rt &lt;dbl&gt; | ntm &lt;fct&gt; |\n",
       "|---|---|---|---|---|---|---|---|---|\n",
       "| 1 | 0 | 0 | 67 |  6 | 4 | 1 | 1.152 | 3 |\n",
       "| 2 | 0 | 0 | 68 |  7 | 4 | 1 | 4.974 | 3 |\n",
       "| 7 | 0 | 0 | 73 | 12 | 4 | 1 | 1.258 | 3 |\n",
       "| 13 | 0 | 0 | 79 | 18 | 4 | 1 | 1.017 | 3 |\n",
       "| 14 | 0 | 0 | 80 | 19 | 4 | 1 | 1.019 | 3 |\n",
       "| 17 | 0 | 0 | 83 | 22 | 4 | 1 | 1.830 | 3 |\n",
       "\n"
      ],
      "text/plain": [
       "   grp sid trial blkt tid cor rt    ntm\n",
       "1  0   0   67     6   4   1   1.152 3  \n",
       "2  0   0   68     7   4   1   4.974 3  \n",
       "7  0   0   73    12   4   1   1.258 3  \n",
       "13 0   0   79    18   4   1   1.017 3  \n",
       "14 0   0   80    19   4   1   1.019 3  \n",
       "17 0   0   83    22   4   1   1.830 3  "
      ]
     },
     "metadata": {},
     "output_type": "display_data"
    }
   ],
   "source": [
    "library('IRdisplay')\n",
    "library('lme4')\n",
    "\n",
    "df <- read.csv('rtdata.csv', check.names=F)[, -1]\n",
    "df <- subset(df, ntm>0)\n",
    "df <- subset(df, cor==1)\n",
    "df$tid <- as.factor(df$tid)\n",
    "df$grp <- as.factor(df$grp)\n",
    "df$ntm <- as.factor(df$ntm)\n",
    "display(head(df))\n",
    "\n",
    "model <- lmer(rt ~ (1|sid) + tid * grp * ntm, data=df)"
   ]
  },
  {
   "cell_type": "code",
   "execution_count": 78,
   "metadata": {
    "ExecuteTime": {
     "end_time": "2019-07-15T13:29:36.612725Z",
     "start_time": "2019-07-15T13:29:36.527Z"
    }
   },
   "outputs": [
    {
     "name": "stderr",
     "output_type": "stream",
     "text": [
      "\n",
      "Correlation matrix not shown by default, as p = 24 > 12.\n",
      "Use print(obj, correlation=TRUE)  or\n",
      "    vcov(obj)        if you need it\n",
      "\n"
     ]
    },
    {
     "data": {
      "text/plain": [
       "Linear mixed model fit by REML ['lmerMod']\n",
       "Formula: rt ~ (1 | sid) + tid * grp * ntm\n",
       "   Data: df\n",
       "\n",
       "REML criterion at convergence: 85293\n",
       "\n",
       "Scaled residuals: \n",
       "    Min      1Q  Median      3Q     Max \n",
       "-4.2125 -0.5491 -0.1576  0.3173  7.5628 \n",
       "\n",
       "Random effects:\n",
       " Groups   Name        Variance Std.Dev.\n",
       " sid      (Intercept) 0.1073   0.3275  \n",
       " Residual             0.3171   0.5631  \n",
       "Number of obs: 49675, groups:  sid, 320\n",
       "\n",
       "Fixed effects:\n",
       "               Estimate Std. Error t value\n",
       "(Intercept)     0.97931    0.05883  16.648\n",
       "tid2            0.02866    0.03258   0.880\n",
       "tid3            0.13507    0.02905   4.649\n",
       "tid4            0.05345    0.03119   1.714\n",
       "grp1           -0.07804    0.08946  -0.872\n",
       "ntm2           -0.04193    0.07221  -0.581\n",
       "ntm3            0.04955    0.07619   0.650\n",
       "tid2:grp1       0.12298    0.04516   2.723\n",
       "tid3:grp1       0.06851    0.04472   1.532\n",
       "tid4:grp1      -0.06419    0.04313  -1.488\n",
       "tid2:ntm2       0.06864    0.03599   1.907\n",
       "tid3:ntm2       0.02735    0.03463   0.790\n",
       "tid4:ntm2       0.06262    0.03710   1.688\n",
       "tid2:ntm3       0.18305    0.03900   4.693\n",
       "tid3:ntm3       0.17257    0.03558   4.850\n",
       "tid4:ntm3       0.24534    0.03860   6.357\n",
       "grp1:ntm2       0.10176    0.10880   0.935\n",
       "grp1:ntm3       0.10457    0.10813   0.967\n",
       "tid2:grp1:ntm2 -0.04970    0.05139  -0.967\n",
       "tid3:grp1:ntm2  0.05782    0.05218   1.108\n",
       "tid4:grp1:ntm2  0.14606    0.05123   2.851\n",
       "tid2:grp1:ntm3 -0.14222    0.05221  -2.724\n",
       "tid3:grp1:ntm3 -0.06904    0.05129  -1.346\n",
       "tid4:grp1:ntm3  0.02413    0.05092   0.474"
      ]
     },
     "metadata": {},
     "output_type": "display_data"
    }
   ],
   "source": [
    "res <- summary(model)\n",
    "display(res)"
   ]
  },
  {
   "cell_type": "code",
   "execution_count": 79,
   "metadata": {
    "ExecuteTime": {
     "end_time": "2019-07-15T13:34:09.022457Z",
     "start_time": "2019-07-15T13:29:46.715Z"
    }
   },
   "outputs": [
    {
     "name": "stderr",
     "output_type": "stream",
     "text": [
      "Computing profile confidence intervals ...\n"
     ]
    },
    {
     "data": {
      "text/html": [
       "<table>\n",
       "<caption>A matrix: 26 × 2 of type dbl</caption>\n",
       "<thead>\n",
       "\t<tr><th></th><th scope=col>2.5 %</th><th scope=col>97.5 %</th></tr>\n",
       "</thead>\n",
       "<tbody>\n",
       "\t<tr><th scope=row>.sig01</th><td> 0.300176263</td><td> 0.35172235</td></tr>\n",
       "\t<tr><th scope=row>.sigma</th><td> 0.559500892</td><td> 0.56652542</td></tr>\n",
       "\t<tr><th scope=row>(Intercept)</th><td> 0.864763492</td><td> 1.09385987</td></tr>\n",
       "\t<tr><th scope=row>tid2</th><td>-0.035170472</td><td> 0.09249680</td></tr>\n",
       "\t<tr><th scope=row>tid3</th><td> 0.078190575</td><td> 0.19204908</td></tr>\n",
       "\t<tr><th scope=row>tid4</th><td>-0.007632811</td><td> 0.11458146</td></tr>\n",
       "\t<tr><th scope=row>grp1</th><td>-0.252251932</td><td> 0.09618008</td></tr>\n",
       "\t<tr><th scope=row>ntm2</th><td>-0.182541361</td><td> 0.09868494</td></tr>\n",
       "\t<tr><th scope=row>ntm3</th><td>-0.098835462</td><td> 0.19791148</td></tr>\n",
       "\t<tr><th scope=row>tid2:grp1</th><td> 0.034472562</td><td> 0.21144165</td></tr>\n",
       "\t<tr><th scope=row>tid3:grp1</th><td>-0.019148956</td><td> 0.15609841</td></tr>\n",
       "\t<tr><th scope=row>tid4:grp1</th><td>-0.148668408</td><td> 0.02036711</td></tr>\n",
       "\t<tr><th scope=row>tid2:ntm2</th><td>-0.001873055</td><td> 0.13915432</td></tr>\n",
       "\t<tr><th scope=row>tid3:ntm2</th><td>-0.040552691</td><td> 0.09515743</td></tr>\n",
       "\t<tr><th scope=row>tid4:ntm2</th><td>-0.010078961</td><td> 0.13529803</td></tr>\n",
       "\t<tr><th scope=row>tid2:ntm3</th><td> 0.106647060</td><td> 0.25948464</td></tr>\n",
       "\t<tr><th scope=row>tid3:ntm3</th><td> 0.102851207</td><td> 0.24228588</td></tr>\n",
       "\t<tr><th scope=row>tid4:ntm3</th><td> 0.169758349</td><td> 0.32101257</td></tr>\n",
       "\t<tr><th scope=row>grp1:ntm2</th><td>-0.110116534</td><td> 0.31362872</td></tr>\n",
       "\t<tr><th scope=row>grp1:ntm3</th><td>-0.105989787</td><td> 0.31515228</td></tr>\n",
       "\t<tr><th scope=row>tid2:grp1:ntm2</th><td>-0.150358833</td><td> 0.05101674</td></tr>\n",
       "\t<tr><th scope=row>tid3:grp1:ntm2</th><td>-0.044392699</td><td> 0.16011024</td></tr>\n",
       "\t<tr><th scope=row>tid4:grp1:ntm2</th><td> 0.045636571</td><td> 0.24640386</td></tr>\n",
       "\t<tr><th scope=row>tid2:grp1:ntm3</th><td>-0.244515075</td><td>-0.03992199</td></tr>\n",
       "\t<tr><th scope=row>tid3:grp1:ntm3</th><td>-0.169541176</td><td> 0.03146732</td></tr>\n",
       "\t<tr><th scope=row>tid4:grp1:ntm3</th><td>-0.075726812</td><td> 0.12384061</td></tr>\n",
       "</tbody>\n",
       "</table>\n"
      ],
      "text/latex": [
       "A matrix: 26 × 2 of type dbl\n",
       "\\begin{tabular}{r|ll}\n",
       "  & 2.5 \\% & 97.5 \\%\\\\\n",
       "\\hline\n",
       "\t.sig01 &  0.300176263 &  0.35172235\\\\\n",
       "\t.sigma &  0.559500892 &  0.56652542\\\\\n",
       "\t(Intercept) &  0.864763492 &  1.09385987\\\\\n",
       "\ttid2 & -0.035170472 &  0.09249680\\\\\n",
       "\ttid3 &  0.078190575 &  0.19204908\\\\\n",
       "\ttid4 & -0.007632811 &  0.11458146\\\\\n",
       "\tgrp1 & -0.252251932 &  0.09618008\\\\\n",
       "\tntm2 & -0.182541361 &  0.09868494\\\\\n",
       "\tntm3 & -0.098835462 &  0.19791148\\\\\n",
       "\ttid2:grp1 &  0.034472562 &  0.21144165\\\\\n",
       "\ttid3:grp1 & -0.019148956 &  0.15609841\\\\\n",
       "\ttid4:grp1 & -0.148668408 &  0.02036711\\\\\n",
       "\ttid2:ntm2 & -0.001873055 &  0.13915432\\\\\n",
       "\ttid3:ntm2 & -0.040552691 &  0.09515743\\\\\n",
       "\ttid4:ntm2 & -0.010078961 &  0.13529803\\\\\n",
       "\ttid2:ntm3 &  0.106647060 &  0.25948464\\\\\n",
       "\ttid3:ntm3 &  0.102851207 &  0.24228588\\\\\n",
       "\ttid4:ntm3 &  0.169758349 &  0.32101257\\\\\n",
       "\tgrp1:ntm2 & -0.110116534 &  0.31362872\\\\\n",
       "\tgrp1:ntm3 & -0.105989787 &  0.31515228\\\\\n",
       "\ttid2:grp1:ntm2 & -0.150358833 &  0.05101674\\\\\n",
       "\ttid3:grp1:ntm2 & -0.044392699 &  0.16011024\\\\\n",
       "\ttid4:grp1:ntm2 &  0.045636571 &  0.24640386\\\\\n",
       "\ttid2:grp1:ntm3 & -0.244515075 & -0.03992199\\\\\n",
       "\ttid3:grp1:ntm3 & -0.169541176 &  0.03146732\\\\\n",
       "\ttid4:grp1:ntm3 & -0.075726812 &  0.12384061\\\\\n",
       "\\end{tabular}\n"
      ],
      "text/markdown": [
       "\n",
       "A matrix: 26 × 2 of type dbl\n",
       "\n",
       "| <!--/--> | 2.5 % | 97.5 % |\n",
       "|---|---|---|\n",
       "| .sig01 |  0.300176263 |  0.35172235 |\n",
       "| .sigma |  0.559500892 |  0.56652542 |\n",
       "| (Intercept) |  0.864763492 |  1.09385987 |\n",
       "| tid2 | -0.035170472 |  0.09249680 |\n",
       "| tid3 |  0.078190575 |  0.19204908 |\n",
       "| tid4 | -0.007632811 |  0.11458146 |\n",
       "| grp1 | -0.252251932 |  0.09618008 |\n",
       "| ntm2 | -0.182541361 |  0.09868494 |\n",
       "| ntm3 | -0.098835462 |  0.19791148 |\n",
       "| tid2:grp1 |  0.034472562 |  0.21144165 |\n",
       "| tid3:grp1 | -0.019148956 |  0.15609841 |\n",
       "| tid4:grp1 | -0.148668408 |  0.02036711 |\n",
       "| tid2:ntm2 | -0.001873055 |  0.13915432 |\n",
       "| tid3:ntm2 | -0.040552691 |  0.09515743 |\n",
       "| tid4:ntm2 | -0.010078961 |  0.13529803 |\n",
       "| tid2:ntm3 |  0.106647060 |  0.25948464 |\n",
       "| tid3:ntm3 |  0.102851207 |  0.24228588 |\n",
       "| tid4:ntm3 |  0.169758349 |  0.32101257 |\n",
       "| grp1:ntm2 | -0.110116534 |  0.31362872 |\n",
       "| grp1:ntm3 | -0.105989787 |  0.31515228 |\n",
       "| tid2:grp1:ntm2 | -0.150358833 |  0.05101674 |\n",
       "| tid3:grp1:ntm2 | -0.044392699 |  0.16011024 |\n",
       "| tid4:grp1:ntm2 |  0.045636571 |  0.24640386 |\n",
       "| tid2:grp1:ntm3 | -0.244515075 | -0.03992199 |\n",
       "| tid3:grp1:ntm3 | -0.169541176 |  0.03146732 |\n",
       "| tid4:grp1:ntm3 | -0.075726812 |  0.12384061 |\n",
       "\n"
      ],
      "text/plain": [
       "               2.5 %        97.5 %     \n",
       ".sig01          0.300176263  0.35172235\n",
       ".sigma          0.559500892  0.56652542\n",
       "(Intercept)     0.864763492  1.09385987\n",
       "tid2           -0.035170472  0.09249680\n",
       "tid3            0.078190575  0.19204908\n",
       "tid4           -0.007632811  0.11458146\n",
       "grp1           -0.252251932  0.09618008\n",
       "ntm2           -0.182541361  0.09868494\n",
       "ntm3           -0.098835462  0.19791148\n",
       "tid2:grp1       0.034472562  0.21144165\n",
       "tid3:grp1      -0.019148956  0.15609841\n",
       "tid4:grp1      -0.148668408  0.02036711\n",
       "tid2:ntm2      -0.001873055  0.13915432\n",
       "tid3:ntm2      -0.040552691  0.09515743\n",
       "tid4:ntm2      -0.010078961  0.13529803\n",
       "tid2:ntm3       0.106647060  0.25948464\n",
       "tid3:ntm3       0.102851207  0.24228588\n",
       "tid4:ntm3       0.169758349  0.32101257\n",
       "grp1:ntm2      -0.110116534  0.31362872\n",
       "grp1:ntm3      -0.105989787  0.31515228\n",
       "tid2:grp1:ntm2 -0.150358833  0.05101674\n",
       "tid3:grp1:ntm2 -0.044392699  0.16011024\n",
       "tid4:grp1:ntm2  0.045636571  0.24640386\n",
       "tid2:grp1:ntm3 -0.244515075 -0.03992199\n",
       "tid3:grp1:ntm3 -0.169541176  0.03146732\n",
       "tid4:grp1:ntm3 -0.075726812  0.12384061"
      ]
     },
     "metadata": {},
     "output_type": "display_data"
    },
    {
     "data": {
      "text/html": [
       "<dl class=dl-horizontal>\n",
       "\t<dt>.sig01</dt>\n",
       "\t\t<dd>TRUE</dd>\n",
       "\t<dt>.sigma</dt>\n",
       "\t\t<dd>TRUE</dd>\n",
       "\t<dt>(Intercept)</dt>\n",
       "\t\t<dd>TRUE</dd>\n",
       "\t<dt>tid2</dt>\n",
       "\t\t<dd>FALSE</dd>\n",
       "\t<dt>tid3</dt>\n",
       "\t\t<dd>TRUE</dd>\n",
       "\t<dt>tid4</dt>\n",
       "\t\t<dd>FALSE</dd>\n",
       "\t<dt>grp1</dt>\n",
       "\t\t<dd>FALSE</dd>\n",
       "\t<dt>ntm2</dt>\n",
       "\t\t<dd>FALSE</dd>\n",
       "\t<dt>ntm3</dt>\n",
       "\t\t<dd>FALSE</dd>\n",
       "\t<dt>tid2:grp1</dt>\n",
       "\t\t<dd>TRUE</dd>\n",
       "\t<dt>tid3:grp1</dt>\n",
       "\t\t<dd>FALSE</dd>\n",
       "\t<dt>tid4:grp1</dt>\n",
       "\t\t<dd>FALSE</dd>\n",
       "\t<dt>tid2:ntm2</dt>\n",
       "\t\t<dd>FALSE</dd>\n",
       "\t<dt>tid3:ntm2</dt>\n",
       "\t\t<dd>FALSE</dd>\n",
       "\t<dt>tid4:ntm2</dt>\n",
       "\t\t<dd>FALSE</dd>\n",
       "\t<dt>tid2:ntm3</dt>\n",
       "\t\t<dd>TRUE</dd>\n",
       "\t<dt>tid3:ntm3</dt>\n",
       "\t\t<dd>TRUE</dd>\n",
       "\t<dt>tid4:ntm3</dt>\n",
       "\t\t<dd>TRUE</dd>\n",
       "\t<dt>grp1:ntm2</dt>\n",
       "\t\t<dd>FALSE</dd>\n",
       "\t<dt>grp1:ntm3</dt>\n",
       "\t\t<dd>FALSE</dd>\n",
       "\t<dt>tid2:grp1:ntm2</dt>\n",
       "\t\t<dd>FALSE</dd>\n",
       "\t<dt>tid3:grp1:ntm2</dt>\n",
       "\t\t<dd>FALSE</dd>\n",
       "\t<dt>tid4:grp1:ntm2</dt>\n",
       "\t\t<dd>TRUE</dd>\n",
       "\t<dt>tid2:grp1:ntm3</dt>\n",
       "\t\t<dd>TRUE</dd>\n",
       "\t<dt>tid3:grp1:ntm3</dt>\n",
       "\t\t<dd>FALSE</dd>\n",
       "\t<dt>tid4:grp1:ntm3</dt>\n",
       "\t\t<dd>FALSE</dd>\n",
       "</dl>\n"
      ],
      "text/latex": [
       "\\begin{description*}\n",
       "\\item[.sig01] TRUE\n",
       "\\item[.sigma] TRUE\n",
       "\\item[(Intercept)] TRUE\n",
       "\\item[tid2] FALSE\n",
       "\\item[tid3] TRUE\n",
       "\\item[tid4] FALSE\n",
       "\\item[grp1] FALSE\n",
       "\\item[ntm2] FALSE\n",
       "\\item[ntm3] FALSE\n",
       "\\item[tid2:grp1] TRUE\n",
       "\\item[tid3:grp1] FALSE\n",
       "\\item[tid4:grp1] FALSE\n",
       "\\item[tid2:ntm2] FALSE\n",
       "\\item[tid3:ntm2] FALSE\n",
       "\\item[tid4:ntm2] FALSE\n",
       "\\item[tid2:ntm3] TRUE\n",
       "\\item[tid3:ntm3] TRUE\n",
       "\\item[tid4:ntm3] TRUE\n",
       "\\item[grp1:ntm2] FALSE\n",
       "\\item[grp1:ntm3] FALSE\n",
       "\\item[tid2:grp1:ntm2] FALSE\n",
       "\\item[tid3:grp1:ntm2] FALSE\n",
       "\\item[tid4:grp1:ntm2] TRUE\n",
       "\\item[tid2:grp1:ntm3] TRUE\n",
       "\\item[tid3:grp1:ntm3] FALSE\n",
       "\\item[tid4:grp1:ntm3] FALSE\n",
       "\\end{description*}\n"
      ],
      "text/markdown": [
       ".sig01\n",
       ":   TRUE.sigma\n",
       ":   TRUE(Intercept)\n",
       ":   TRUEtid2\n",
       ":   FALSEtid3\n",
       ":   TRUEtid4\n",
       ":   FALSEgrp1\n",
       ":   FALSEntm2\n",
       ":   FALSEntm3\n",
       ":   FALSEtid2:grp1\n",
       ":   TRUEtid3:grp1\n",
       ":   FALSEtid4:grp1\n",
       ":   FALSEtid2:ntm2\n",
       ":   FALSEtid3:ntm2\n",
       ":   FALSEtid4:ntm2\n",
       ":   FALSEtid2:ntm3\n",
       ":   TRUEtid3:ntm3\n",
       ":   TRUEtid4:ntm3\n",
       ":   TRUEgrp1:ntm2\n",
       ":   FALSEgrp1:ntm3\n",
       ":   FALSEtid2:grp1:ntm2\n",
       ":   FALSEtid3:grp1:ntm2\n",
       ":   FALSEtid4:grp1:ntm2\n",
       ":   TRUEtid2:grp1:ntm3\n",
       ":   TRUEtid3:grp1:ntm3\n",
       ":   FALSEtid4:grp1:ntm3\n",
       ":   FALSE\n",
       "\n"
      ],
      "text/plain": [
       "        .sig01         .sigma    (Intercept)           tid2           tid3 \n",
       "          TRUE           TRUE           TRUE          FALSE           TRUE \n",
       "          tid4           grp1           ntm2           ntm3      tid2:grp1 \n",
       "         FALSE          FALSE          FALSE          FALSE           TRUE \n",
       "     tid3:grp1      tid4:grp1      tid2:ntm2      tid3:ntm2      tid4:ntm2 \n",
       "         FALSE          FALSE          FALSE          FALSE          FALSE \n",
       "     tid2:ntm3      tid3:ntm3      tid4:ntm3      grp1:ntm2      grp1:ntm3 \n",
       "          TRUE           TRUE           TRUE          FALSE          FALSE \n",
       "tid2:grp1:ntm2 tid3:grp1:ntm2 tid4:grp1:ntm2 tid2:grp1:ntm3 tid3:grp1:ntm3 \n",
       "         FALSE          FALSE           TRUE           TRUE          FALSE \n",
       "tid4:grp1:ntm3 \n",
       "         FALSE "
      ]
     },
     "metadata": {},
     "output_type": "display_data"
    }
   ],
   "source": [
    "cis = confint(model)\n",
    "display(cis)\n",
    "!((0 > cis[,1]) & (0 < cis[,2]))"
   ]
  },
  {
   "cell_type": "code",
   "execution_count": null,
   "metadata": {},
   "outputs": [],
   "source": []
  }
 ],
 "metadata": {
  "hide_input": false,
  "kernelspec": {
   "display_name": "R",
   "language": "R",
   "name": "ir"
  },
  "language_info": {
   "codemirror_mode": "r",
   "file_extension": ".r",
   "mimetype": "text/x-r-source",
   "name": "R",
   "pygments_lexer": "r",
   "version": "3.5.0"
  },
  "toc": {
   "base_numbering": 1,
   "nav_menu": {},
   "number_sections": true,
   "sideBar": true,
   "skip_h1_title": false,
   "title_cell": "Table of Contents",
   "title_sidebar": "Contents",
   "toc_cell": false,
   "toc_position": {},
   "toc_section_display": true,
   "toc_window_display": false
  },
  "varInspector": {
   "cols": {
    "lenName": 16,
    "lenType": 16,
    "lenVar": 40
   },
   "kernels_config": {
    "python": {
     "delete_cmd_postfix": "",
     "delete_cmd_prefix": "del ",
     "library": "var_list.py",
     "varRefreshCmd": "print(var_dic_list())"
    },
    "r": {
     "delete_cmd_postfix": ") ",
     "delete_cmd_prefix": "rm(",
     "library": "var_list.r",
     "varRefreshCmd": "cat(var_dic_list()) "
    }
   },
   "types_to_exclude": [
    "module",
    "function",
    "builtin_function_or_method",
    "instance",
    "_Feature"
   ],
   "window_display": false
  }
 },
 "nbformat": 4,
 "nbformat_minor": 2
}
