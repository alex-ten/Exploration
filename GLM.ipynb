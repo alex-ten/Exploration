{
 "cells": [
  {
   "cell_type": "code",
   "execution_count": 54,
   "metadata": {
    "ExecuteTime": {
     "end_time": "2019-04-03T08:40:54.556718Z",
     "start_time": "2019-04-03T08:40:53.793659Z"
    }
   },
   "outputs": [],
   "source": [
    "import numpy as np\n",
    "import pandas as pd\n",
    "from statsmodels.regression.linear_model import OLS as ols\n",
    "import matplotlib.pyplot as plt"
   ]
  },
  {
   "cell_type": "code",
   "execution_count": 62,
   "metadata": {
    "ExecuteTime": {
     "end_time": "2019-04-03T08:45:27.382370Z",
     "start_time": "2019-04-03T08:45:27.327118Z"
    },
    "scrolled": false
   },
   "outputs": [
    {
     "name": "stdout",
     "output_type": "stream",
     "text": [
      "[[-8. ]\n",
      " [ 1.5]]\n",
      "[[-7.23931905]\n",
      " [ 1.45602582]]\n",
      "[-7.23931905  1.45602582]\n",
      "                            OLS Regression Results                            \n",
      "==============================================================================\n",
      "Dep. Variable:                      y   R-squared:                       0.681\n",
      "Model:                            OLS   Adj. R-squared:                  0.677\n",
      "Method:                 Least Squares   F-statistic:                     187.5\n",
      "Date:                Wed, 03 Apr 2019   Prob (F-statistic):           1.60e-23\n",
      "Time:                        10:45:27   Log-Likelihood:                -264.38\n",
      "No. Observations:                  90   AIC:                             532.8\n",
      "Df Residuals:                      88   BIC:                             537.8\n",
      "Df Model:                           1                                         \n",
      "Covariance Type:            nonrobust                                         \n",
      "==============================================================================\n",
      "                 coef    std err          t      P>|t|      [0.025      0.975]\n",
      "------------------------------------------------------------------------------\n",
      "const         -7.2393      1.215     -5.960      0.000      -9.653      -4.826\n",
      "x1             1.4560      0.106     13.691      0.000       1.245       1.667\n",
      "==============================================================================\n",
      "Omnibus:                        0.039   Durbin-Watson:                   2.051\n",
      "Prob(Omnibus):                  0.981   Jarque-Bera (JB):                0.106\n",
      "Skew:                          -0.047   Prob(JB):                        0.948\n",
      "Kurtosis:                       2.861   Cond. No.                         28.7\n",
      "==============================================================================\n",
      "\n",
      "Warnings:\n",
      "[1] Standard Errors assume that the covariance matrix of the errors is correctly specified.\n"
     ]
    }
   ],
   "source": [
    "np.random.seed(1)\n",
    "\n",
    "N = 90\n",
    "x_mean = 10\n",
    "x_var = 25\n",
    "beta = np.array([-8, 1.5]).reshape([-1, 1])\n",
    "\n",
    "epsilon = np.random.normal(0, 5, N).reshape([-1, 1])\n",
    "x = np.random.normal(x_mean, np.sqrt(x_var), N).reshape([-1, 1])\n",
    "x = np.concatenate([np.ones_like(x), x], axis=1)\n",
    "y = np.dot(x, beta) + epsilon\n",
    "\n",
    "# x_ = 1\n",
    "beta_ = np.dot(np.dot(np.linalg.inv(np.dot(x.T, x)), x.T), y)\n",
    "resid = y - np.dot(x, beta_)\n",
    "\n",
    "regfit = ols(y, x).fit()\n",
    "\n",
    "print(beta)\n",
    "print(beta_)\n",
    "print(regfit.params)\n",
    "print(regfit.summary())"
   ]
  },
  {
   "cell_type": "code",
   "execution_count": 63,
   "metadata": {
    "ExecuteTime": {
     "end_time": "2019-04-03T08:46:13.194178Z",
     "start_time": "2019-04-03T08:46:12.955627Z"
    }
   },
   "outputs": [
    {
     "data": {
      "text/plain": [
       "[<matplotlib.lines.Line2D at 0x125c13470>]"
      ]
     },
     "execution_count": 63,
     "metadata": {},
     "output_type": "execute_result"
    },
    {
     "data": {
      "image/png": "[encoded data removed]",
      "text/plain": [
       "<Figure size 432x288 with 1 Axes>"
      ]
     },
     "metadata": {},
     "output_type": "display_data"
    }
   ],
   "source": [
    "plt.figure('GLM')\n",
    "\n",
    "plt.scatter(x[:, 1], y, alpha=.5)\n",
    "plt.plot(x[:, 1], np.dot(x, beta), alpha=.5, ls='--')\n",
    "plt.plot(x[:, 1], np.dot(x, beta_), alpha=.5, c='red')\n",
    "plt.plot(x[:, 1], np.dot(x, regfit.params.reshape([-1,1])), c='green')"
   ]
  },
  {
   "cell_type": "code",
   "execution_count": null,
   "metadata": {},
   "outputs": [],
   "source": []
  }
 ],
 "metadata": {
  "hide_input": false,
  "kernelspec": {
   "display_name": "Python 3",
   "language": "python",
   "name": "python3"
  },
  "language_info": {
   "codemirror_mode": {
    "name": "ipython",
    "version": 3
   },
   "file_extension": ".py",
   "mimetype": "text/x-python",
   "name": "python",
   "nbconvert_exporter": "python",
   "pygments_lexer": "ipython3",
   "version": "3.6.4"
  },
  "toc": {
   "base_numbering": 1,
   "nav_menu": {},
   "number_sections": true,
   "sideBar": true,
   "skip_h1_title": false,
   "title_cell": "Table of Contents",
   "title_sidebar": "Contents",
   "toc_cell": false,
   "toc_position": {},
   "toc_section_display": true,
   "toc_window_display": false
  },
  "varInspector": {
   "cols": {
    "lenName": 16,
    "lenType": 16,
    "lenVar": 40
   },
   "kernels_config": {
    "python": {
     "delete_cmd_postfix": "",
     "delete_cmd_prefix": "del ",
     "library": "var_list.py",
     "varRefreshCmd": "print(var_dic_list())"
    },
    "r": {
     "delete_cmd_postfix": ") ",
     "delete_cmd_prefix": "rm(",
     "library": "var_list.r",
     "varRefreshCmd": "cat(var_dic_list()) "
    }
   },
   "types_to_exclude": [
    "module",
    "function",
    "builtin_function_or_method",
    "instance",
    "_Feature"
   ],
   "window_display": false
  }
 },
 "nbformat": 4,
 "nbformat_minor": 2
}
