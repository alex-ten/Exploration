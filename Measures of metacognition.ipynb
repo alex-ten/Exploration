{
 "cells": [
  {
   "cell_type": "code",
   "execution_count": 1,
   "metadata": {},
   "outputs": [],
   "source": [
    "import numpy as np\n",
    "import scipy as sc\n",
    "import matplotlib.pyplot as plt\n",
    "from sklearn.metrics import confusion_matrix, roc_auc_score\n",
    "\n",
    "%matplotlib notebook"
   ]
  },
  {
   "cell_type": "code",
   "execution_count": 8,
   "metadata": {},
   "outputs": [],
   "source": [
    "def sim(ntrials, nsubj, comp, bias=0, sens=1, thresh=.51, noise=0.03):\n",
    "    phis = []\n",
    "    aucs = []\n",
    "    for subj in range(nsubj):\n",
    "        hits = np.random.choice([0, 1], ntrials, p = [1-comp, comp])\n",
    "        conf = 1 / (1 + np.exp(-(bias + sens*hits + np.random.normal(loc = 0.0, scale = noise, \n",
    "                         size=ntrials))))\n",
    "        discrete_conf = (conf>thresh).astype(int)\n",
    "\n",
    "        tn, fp, fn, tp = confusion_matrix(hits, discrete_conf).ravel()\n",
    "        p,n,p_,n_ = tp+fn, fp+tn, tp+fp, tn+fn\n",
    "        phi = (tp*tn - fp*fn) / np.sqrt(p*n*p_*n_)\n",
    "        auc = roc_auc_score(hits, conf)\n",
    "        \n",
    "        phis.append(phi)\n",
    "        aucs.append(auc)\n",
    "    return phis, aucs"
   ]
  },
  {
   "cell_type": "code",
   "execution_count": 10,
   "metadata": {},
   "outputs": [
    {
     "name": "stdout",
     "output_type": "stream",
     "text": [
      "bias = 0, mean phi = 0.9008506819393706, auc = 1.0\n",
      "bias = 0, mean phi = 0.8547323677910632, auc = 0.9812549290777173\n",
      "bias = 0, mean phi = 0.8127262251138901, auc = 0.9689879048594424\n",
      "bias = 0, mean phi = -0.021271657612972974, auc = 0.4940425090082458\n",
      "bias = 0.0, mean phi = 0.9174622642696719, auc = 1.0\n",
      "bias = 0.02, mean phi = 0.7710988107369405, auc = 1.0\n",
      "bias = 0.03, mean phi = 0.6717258156149807, auc = 1.0\n"
     ]
    },
    {
     "data": {
      "image/png": "[encoded data removed]",
      "text/plain": [
       "<Figure size 648x432 with 2 Axes>"
      ]
     },
     "metadata": {},
     "output_type": "display_data"
    }
   ],
   "source": [
    "# Setup\n",
    "# np.random.seed(1)\n",
    "ntrials = 200\n",
    "nsubj = 50\n",
    "noise = .03\n",
    "\n",
    "# Agent params\n",
    "comp = .5\n",
    "bias = 0\n",
    "sens = 1\n",
    "thresh = .51\n",
    "\n",
    "plt.figure(1, figsize=(9,6))\n",
    "\n",
    "plt.subplot(2,1,1)\n",
    "plt.grid(zorder=0)\n",
    "plt.xlim(0.4,1)\n",
    "plt.ylim(0,.6)\n",
    "for sens in [1.00, 0.09, 0.08, 0.00]:\n",
    "    phis, aucs = sim(ntrials, nsubj, comp, bias, sens, thresh, noise)\n",
    "    print('bias = {}, mean phi = {}, auc = {}'.format(bias, np.mean(phis), np.mean(aucs)))    \n",
    "    w = np.zeros_like(phis) + 1. / len(phis)\n",
    "    plt.hist(phis, weights=w, zorder=2, alpha=.7, bins=np.linspace(-1,1,100), label='sens={}'.format(sens))\n",
    "plt.legend(bbox_to_anchor=(1.05, 1), loc=2, borderaxespad=0.)\n",
    "    \n",
    "plt.subplot(2,1,2)\n",
    "plt.grid(zorder=0)\n",
    "plt.xlim(0.4,1)\n",
    "plt.ylim(0,.6)\n",
    "for bias in [0.0, .02, .03]:\n",
    "    phis, aucs = sim(ntrials, nsubj, comp=comp, bias=bias)\n",
    "    print('bias = {}, mean phi = {}, auc = {}'.format(bias, np.mean(phis), np.mean(aucs)))    \n",
    "\n",
    "    w = np.zeros_like(phis) + 1. / len(phis)\n",
    "    plt.hist(phis, weights=w, zorder=2, alpha=.7, bins=np.linspace(-1,1,100), label='bias={}'.format(bias))\n",
    "plt.legend(bbox_to_anchor=(1.05, 1), loc=2, borderaxespad=0.)\n",
    "plt.tight_layout()"
   ]
  },
  {
   "cell_type": "code",
   "execution_count": null,
   "metadata": {},
   "outputs": [],
   "source": []
  },
  {
   "cell_type": "code",
   "execution_count": null,
   "metadata": {},
   "outputs": [],
   "source": []
  }
 ],
 "metadata": {
  "hide_input": false,
  "kernelspec": {
   "display_name": "Python 3",
   "language": "python",
   "name": "python3"
  },
  "language_info": {
   "codemirror_mode": {
    "name": "ipython",
    "version": 3
   },
   "file_extension": ".py",
   "mimetype": "text/x-python",
   "name": "python",
   "nbconvert_exporter": "python",
   "pygments_lexer": "ipython3",
   "version": "3.6.4"
  },
  "toc": {
   "base_numbering": 1,
   "nav_menu": {},
   "number_sections": true,
   "sideBar": true,
   "skip_h1_title": false,
   "title_cell": "Table of Contents",
   "title_sidebar": "Contents",
   "toc_cell": false,
   "toc_position": {},
   "toc_section_display": true,
   "toc_window_display": false
  },
  "varInspector": {
   "cols": {
    "lenName": 16,
    "lenType": 16,
    "lenVar": 40
   },
   "kernels_config": {
    "python": {
     "delete_cmd_postfix": "",
     "delete_cmd_prefix": "del ",
     "library": "var_list.py",
     "varRefreshCmd": "print(var_dic_list())"
    },
    "r": {
     "delete_cmd_postfix": ") ",
     "delete_cmd_prefix": "rm(",
     "library": "var_list.r",
     "varRefreshCmd": "cat(var_dic_list()) "
    }
   },
   "types_to_exclude": [
    "module",
    "function",
    "builtin_function_or_method",
    "instance",
    "_Feature"
   ],
   "window_display": false
  }
 },
 "nbformat": 4,
 "nbformat_minor": 2
}
